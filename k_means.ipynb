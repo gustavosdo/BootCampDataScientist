{
  "nbformat": 4,
  "nbformat_minor": 0,
  "metadata": {
    "colab": {
      "name": "k-means.ipynb",
      "provenance": [],
      "collapsed_sections": [],
      "authorship_tag": "ABX9TyMaPsvoXyBLb9H8SiBkMyNy",
      "include_colab_link": true
    },
    "kernelspec": {
      "name": "python3",
      "display_name": "Python 3"
    }
  },
  "cells": [
    {
      "cell_type": "markdown",
      "metadata": {
        "id": "view-in-github",
        "colab_type": "text"
      },
      "source": [
        "<a href=\"https://colab.research.google.com/github/gustavosdo/BootCampDataScientist/blob/master/k_means.ipynb\" target=\"_parent\"><img src=\"https://colab.research.google.com/assets/colab-badge.svg\" alt=\"Open In Colab\"/></a>"
      ]
    },
    {
      "cell_type": "markdown",
      "metadata": {
        "id": "rde67c1NHkZK",
        "colab_type": "text"
      },
      "source": [
        "Importing libraries"
      ]
    },
    {
      "cell_type": "code",
      "metadata": {
        "id": "1c4-yKs5HoHs",
        "colab_type": "code",
        "colab": {}
      },
      "source": [
        "import numpy as np\n",
        "from matplotlib import pyplot as plt\n",
        "from sklearn.datasets import make_blobs\n",
        "from sklearn.cluster import KMeans"
      ],
      "execution_count": 1,
      "outputs": []
    },
    {
      "cell_type": "markdown",
      "metadata": {
        "id": "stKG03b6ICH_",
        "colab_type": "text"
      },
      "source": [
        "# KMeans example"
      ]
    },
    {
      "cell_type": "markdown",
      "metadata": {
        "id": "lFF4VOfwILzy",
        "colab_type": "text"
      },
      "source": [
        "## Creating dataset"
      ]
    },
    {
      "cell_type": "code",
      "metadata": {
        "id": "5Gk1fZiNIJ_A",
        "colab_type": "code",
        "colab": {
          "base_uri": "https://localhost:8080/",
          "height": 269
        },
        "outputId": "1a830ea0-0d0b-41af-9c66-f01f858ec6b3"
      },
      "source": [
        "dataset = np.array([[1,4], [2,2], [2,5], [3,3], [3,5], [4,7], [5,6], [6,4], [6,7], [7,6], [7,9], [8,7], [8,9], [9,4], [9,8]])\n",
        "\n",
        "plt.scatter(dataset[:,0], dataset[:,1])\n",
        "plt.xlim(0, 10)\n",
        "plt.ylim(0,10)\n",
        "plt.grid()"
      ],
      "execution_count": 3,
      "outputs": [
        {
          "output_type": "display_data",
          "data": {
            "image/png": "[encoded data removed]",
            "text/plain": [
              "<Figure size 432x288 with 1 Axes>"
            ]
          },
          "metadata": {
            "tags": [],
            "needs_background": "light"
          }
        }
      ]
    },
    {
      "cell_type": "markdown",
      "metadata": {
        "id": "JyIlgK_0JDZT",
        "colab_type": "text"
      },
      "source": [
        "We want to find three clusters in the dataset. The init parameter defines the strategy used in order to initialize the centroids. The k-means++ value is an algorithm used for a better definition of centroids."
      ]
    },
    {
      "cell_type": "code",
      "metadata": {
        "id": "lnArCP9dJh2h",
        "colab_type": "code",
        "colab": {
          "base_uri": "https://localhost:8080/",
          "height": 269
        },
        "outputId": "20665fee-3289-43bb-8703-9eb91edb5a58"
      },
      "source": [
        "kmeans = KMeans(n_clusters = 3, init = 'k-means++', max_iter = 300, n_init = 10)\n",
        "pred_y = kmeans.fit_predict(dataset)\n",
        "\n",
        "plt.scatter(dataset[:,0], dataset[:,1])\n",
        "plt.xlim(0, 10)\n",
        "plt.ylim(0,10)\n",
        "plt.grid()"
      ],
      "execution_count": 4,
      "outputs": [
        {
          "output_type": "display_data",
          "data": {
            "image/png": "[encoded data removed]",
            "text/plain": [
              "<Figure size 432x288 with 1 Axes>"
            ]
          },
          "metadata": {
            "tags": [],
            "needs_background": "light"
          }
        }
      ]
    }
  ]
}